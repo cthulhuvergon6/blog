{
 "cells": [
  {
   "cell_type": "markdown",
   "id": "a153fbf1-89bb-4dd7-86e8-e547d2161168",
   "metadata": {},
   "source": [
    "## Nombrar variables."
   ]
  },
  {
   "cell_type": "code",
   "execution_count": 1,
   "id": "59652d76-3313-4a09-98e9-f5d21d6f2859",
   "metadata": {},
   "outputs": [
    {
     "name": "stdout",
     "output_type": "stream",
     "text": [
      "Hola, mundo!\n"
     ]
    }
   ],
   "source": [
    "esto_es_una_variable = \"Mi variable\"\n",
    "\n",
    "# comentarios simple de una sola linea\n",
    "\n",
    "\"\"\"\n",
    "comentario de multiple linea\n",
    "descripción del proceso\n",
    "\"\"\"\n",
    "\n",
    "print('Hola, mundo!') # comentario sobre la misma linea del codigo"
   ]
  },
  {
   "cell_type": "code",
   "execution_count": null,
   "id": "135b9a1d-c61a-40ee-93c3-1b28e5effbd7",
   "metadata": {},
   "outputs": [],
   "source": []
  }
 ],
 "metadata": {
  "kernelspec": {
   "display_name": "Python 3 (ipykernel)",
   "language": "python",
   "name": "python3"
  },
  "language_info": {
   "codemirror_mode": {
    "name": "ipython",
    "version": 3
   },
   "file_extension": ".py",
   "mimetype": "text/x-python",
   "name": "python",
   "nbconvert_exporter": "python",
   "pygments_lexer": "ipython3",
   "version": "3.8.10"
  }
 },
 "nbformat": 4,
 "nbformat_minor": 5
}
